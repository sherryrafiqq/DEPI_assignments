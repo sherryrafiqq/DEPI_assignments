{
 "cells": [
  {
   "cell_type": "code",
   "execution_count": 14,
   "metadata": {},
   "outputs": [
    {
     "name": "stdout",
     "output_type": "stream",
     "text": [
      "[[11 22 33]\n",
      " [41 52 63]]\n",
      "[[10 20]\n",
      " [60 80]]\n"
     ]
    }
   ],
   "source": [
    "import numpy as np\n",
    "#1\n",
    "a1 = np.array([[10, 20, 30],\n",
    "               [40, 50, 60]])\n",
    "a2 = np.array([1,2,3])\n",
    "a3 = a1+a2\n",
    "print(a3)\n",
    "#####################################\n",
    "a1b = np.array([[1, 2],\n",
    "               [3, 4]])\n",
    "a2b = np.array([10, 20]).reshape(2,1) ##I tried using matrix transpose as first intuition but it didn't work as expected so I used reshape instead\n",
    "a3b=a1b*a2b\n",
    "print(a3b)\n"
   ]
  },
  {
   "cell_type": "code",
   "execution_count": 44,
   "metadata": {},
   "outputs": [
    {
     "name": "stdout",
     "output_type": "stream",
     "text": [
      "a:\n",
      " [[13 14 15 16]\n",
      " [17 18 19 20]\n",
      " [21 22 23 24]]\n",
      "b:\n",
      " [[ 4  8 12]\n",
      " [16 20 24]]\n",
      "c:\n",
      " [[[13 14 15 16]\n",
      "  [17 18 19 20]\n",
      "  [21 22 23 24]]\n",
      "\n",
      " [[ 1  2  3  4]\n",
      "  [ 5  6  7  8]\n",
      "  [ 9 10 11 12]]]\n",
      "d:\n",
      " [[[ 1 -1  3 -1]\n",
      "  [ 5 -1  7 -1]\n",
      "  [ 9 -1 11 -1]]\n",
      "\n",
      " [[13 -1 15 -1]\n",
      "  [17 -1 19 -1]\n",
      "  [21 -1 23 -1]]]\n"
     ]
    }
   ],
   "source": [
    "#2\n",
    "arr = np.arange(1, 25).reshape(2, 3, 4)\n",
    "#print(arr)\n",
    "#######################################\n",
    "#a\n",
    "print(f\"a:\\n {arr[1]}\")\n",
    "#b\n",
    "print(f\"b:\\n {arr[:,:,-1]}\")\n",
    "#c\n",
    "print(f\"c:\\n {arr[::-1,:,:]}\")\n",
    "#d\n",
    "arr2=np.copy(arr)\n",
    "arr2[arr2%2==0]=-1 #vectorized operation instead of 3 nested loops\n",
    "print(f\"d:\\n {arr2}\")    \n"
   ]
  },
  {
   "cell_type": "code",
   "execution_count": 70,
   "metadata": {},
   "outputs": [
    {
     "name": "stdout",
     "output_type": "stream",
     "text": [
      "a: [1 1 3 3 5 5]\n",
      "b: [1 2 2 3 3 3 4 4 4 4 5 5 5 5 5 6 6 6 6 6 6]\n"
     ]
    }
   ],
   "source": [
    "#3\n",
    "#a\n",
    "arr = np.array([1, 2, 3, 4, 5, 6])\n",
    "arr3=np.copy(arr)\n",
    "arr3a=np.array([],dtype=np.int8)\n",
    "for i in range(len(arr3)):\n",
    "    if arr3[i]%2>0:\n",
    "       rep = np.repeat(arr3[i],2)\n",
    "       arr3a = np.concatenate((arr3a,rep)) \n",
    "print(f\"a: {arr3a}\")  \n",
    "#b\n",
    "arr3b=np.array([],dtype=np.int8)\n",
    "for i in range(len(arr3)):\n",
    "       rep = np.repeat(arr3[i],(i+1))\n",
    "       arr3b = np.concatenate((arr3b,rep))\n",
    "print(f\"b: {arr3b}\")\n",
    "\n",
    "  \n",
    "        \n",
    "        "
   ]
  },
  {
   "cell_type": "code",
   "execution_count": 73,
   "metadata": {},
   "outputs": [
    {
     "name": "stdout",
     "output_type": "stream",
     "text": [
      "[0.  0.5 1. ]\n"
     ]
    }
   ],
   "source": [
    "#4\n",
    "arr = np.array([10, 20, 30])\n",
    "normalized = np.array((arr-np.min(arr))/(np.max(arr)-np.min(arr)), dtype= np.float32)\n",
    "## in the numerator we used broadcasting to subtract the smallest value of the array from the entire array\n",
    "# and in the denomenator we obtained the range of the array \n",
    "print(normalized)"
   ]
  },
  {
   "cell_type": "code",
   "execution_count": 78,
   "metadata": {},
   "outputs": [
    {
     "name": "stdout",
     "output_type": "stream",
     "text": [
      "a: [[0. 0. 0.]\n",
      " [0. 1. 2.]\n",
      " [0. 2. 4.]]\n",
      "your matrix: [[ 1.  2.  3.  4.]\n",
      " [ 5.  6.  7.  8.]\n",
      " [ 9. 10. 11. 12.]\n",
      " [13. 14. 15. 16.]]\n",
      "your matrix after manipulation: [[ 0.  2.  3.  4.]\n",
      " [ 5.  0.  7.  8.]\n",
      " [ 9. 10.  0. 12.]\n",
      " [13. 14. 15.  0.]]\n"
     ]
    }
   ],
   "source": [
    "#bonus \n",
    "#a\n",
    "arr_ij = np.empty((3,3))\n",
    "for i in range(len(arr_ij)):\n",
    "    for j in range(len(arr_ij)):\n",
    "        arr_ij[i][j]=i*j\n",
    "print(f\"a: {arr_ij}\")  \n",
    "#b\n",
    "n = int(input(\"Enter the size of the matrix (only square matrices)\"))    \n",
    "matrix = np.empty((n,n),dtype = np.float32)\n",
    "for i in range(n):\n",
    "    for j in range(n):\n",
    "        matrix[i][j]=float(input(f\"Please enter elements of the array at position:{i+1},{j+1}\"))\n",
    "print(f\"your matrix: {matrix}\")\n",
    "matrix_man = np.copy(matrix)\n",
    "matrix_man[np.diag_indices_from(matrix_man)] = 0\n",
    "print(f\"your matrix after manipulation: {matrix_man}\")\n",
    " "
   ]
  }
 ],
 "metadata": {
  "kernelspec": {
   "display_name": "base",
   "language": "python",
   "name": "python3"
  },
  "language_info": {
   "codemirror_mode": {
    "name": "ipython",
    "version": 3
   },
   "file_extension": ".py",
   "mimetype": "text/x-python",
   "name": "python",
   "nbconvert_exporter": "python",
   "pygments_lexer": "ipython3",
   "version": "3.12.7"
  }
 },
 "nbformat": 4,
 "nbformat_minor": 2
}
